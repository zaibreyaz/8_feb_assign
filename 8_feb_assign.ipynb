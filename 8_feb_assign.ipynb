{
 "cells": [
  {
   "cell_type": "code",
   "execution_count": null,
   "id": "26a27048-5f85-49bd-a513-97fb518cbfb2",
   "metadata": {},
   "outputs": [],
   "source": [
    "\"\"\"Q1. What is Abstraction in OOPs? Explain with an example.\n",
    "    Ans: Abstraction is used to hide the internal functionality of the function from the users. \n",
    "    The users only interact with the basic implementation of the function, but inner working is hidden. \n",
    "    User is familiar with that 'what function does' but they don't know 'how it does.'\n",
    "    Example: we all use the smartphone and very much familiar with its functions such as camera, voice-recorder, call-dialing, etc., \n",
    "             but we don't know how these operations are happening in the background.\n",
    "\"\"\""
   ]
  },
  {
   "cell_type": "code",
   "execution_count": null,
   "id": "c66a3b86-8576-4649-933f-f7d7eb407324",
   "metadata": {},
   "outputs": [],
   "source": [
    "\"\"\"Q2. Differentiate between Abstraction and Encapsulation. Explain with an example.\n",
    "    Ans: The main difference between abstraction vs encapsulation is that the problem is solved by Abstraction at the design level and the application level by Encapsulation. \n",
    "        Abstraction involves hiding unwanted information while providing the most important information, whereas encapsulation implies hiding code and information in one device.\n",
    "        Abstraction allows you to focus on what the item does instead of how it does, while encapsulation means the inner details of how the object is working. \n",
    "        You can modify it later with a better technique if you maintain the inner information confidential. \n",
    "        Abstraction focuses on outside viewing, for example, shifting the car, while Encapsulation focuses on internal working or inner viewing.\n",
    "\"\"\""
   ]
  },
  {
   "cell_type": "code",
   "execution_count": null,
   "id": "d07a50d7-7bf0-4a2b-aaaa-49bff74a5488",
   "metadata": {},
   "outputs": [],
   "source": [
    "\"\"\"Q3. What is abc module in python? Why is it used?\n",
    "    Ans: The ABC module in Python is a collection of abstract base classes that are used to define the common interface for a set of related objects (known as a hierarchy).\n",
    "        The purpose of an ABC is to provide a way to share functionality between related objects without the need to subclass from a common base class. \n",
    "        In other words, an ABC allows you to define a template for a group of objects that can be used to enforce a common interface.\n",
    "\"\"\""
   ]
  },
  {
   "cell_type": "code",
   "execution_count": null,
   "id": "a84b7665-c6b5-4cc8-bbdb-6fc7dfa717e5",
   "metadata": {},
   "outputs": [],
   "source": [
    "\"\"\"Q4. How can we achieve data abstraction?\n",
    "    Ans: Data Abstraction in Python can be achieved through creating abstract classes and inheriting them later. Before discussing what abstract classes are,\n",
    "        let us have a brief introduction of inheritance.\n",
    "        Inheritance in OOP is a way through which one class inherits the attributes and methods of another class. \n",
    "        The class whose properties and methods are inherited is known as the Parent class. And the class that inherits the properties \n",
    "        from the parent class is the Child class/subclass.\n",
    "\"\"\""
   ]
  },
  {
   "cell_type": "code",
   "execution_count": null,
   "id": "b465f2e8-3a32-43f8-be5a-ca06ab3b372c",
   "metadata": {},
   "outputs": [],
   "source": [
    "\"\"\"Q5. Can we create an instance of an abstract class? Explain your answer.\n",
    "    Ans: That's the essence of an abstract class ,you can't make instance of it ,it's only can be used for inheritance.\n",
    "        Some classes should not be instantiated!\n",
    "        For example: There is a class Animal ,there are some more classes which are subclasses of class Animal \n",
    "        like - Dog ,Cat , Elephant ;can you imagine object of class Animal? What attributes it will have?\n",
    "        Instead we can use the whole code for inheritance to different classes or only one class, \n",
    "        a modified and better class,with all the power of that abstract class ,whose instance can be made\n",
    "\"\"\""
   ]
  }
 ],
 "metadata": {
  "kernelspec": {
   "display_name": "Python 3 (ipykernel)",
   "language": "python",
   "name": "python3"
  },
  "language_info": {
   "codemirror_mode": {
    "name": "ipython",
    "version": 3
   },
   "file_extension": ".py",
   "mimetype": "text/x-python",
   "name": "python",
   "nbconvert_exporter": "python",
   "pygments_lexer": "ipython3",
   "version": "3.10.8"
  }
 },
 "nbformat": 4,
 "nbformat_minor": 5
}
